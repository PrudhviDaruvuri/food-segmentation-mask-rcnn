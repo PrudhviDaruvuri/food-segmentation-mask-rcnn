{
  "nbformat": 4,
  "nbformat_minor": 0,
  "metadata": {
    "accelerator": "GPU",
    "colab": {
      "name": "FOOD_torchvision_finetuning_instance_segmentation.ipynb",
      "provenance": [],
      "collapsed_sections": []
    },
    "kernelspec": {
      "display_name": "Python 3",
      "language": "python",
      "name": "python3"
    },
    "language_info": {
      "codemirror_mode": {
        "name": "ipython",
        "version": 3
      },
      "file_extension": ".py",
      "mimetype": "text/x-python",
      "name": "python",
      "nbconvert_exporter": "python",
      "pygments_lexer": "ipython3",
      "version": "3.6.4"
    }
  },
  "cells": [
    {
      "cell_type": "markdown",
      "metadata": {
        "id": "FwrKEb6FCwEk"
      },
      "source": [
        "# 1. Install dependences"
      ]
    },
    {
      "cell_type": "code",
      "metadata": {
        "id": "DBIoe_tHTQgV"
      },
      "source": [
        "%%shell\n",
        "pip install cython\n",
        "pip install -U 'git+https://github.com/cocodataset/cocoapi.git#subdirectory=PythonAPI'\n",
        "pip install albumentations\n",
        "git clone https://github.com/pytorch/vision.git\n",
        "cd vision\n",
        "cp references/detection/utils.py ../\n",
        "cp references/detection/transforms.py ../\n",
        "cp references/detection/coco_eval.py ../\n",
        "cp references/detection/engine.py ../\n",
        "cp references/detection/coco_utils.py ../"
      ],
      "execution_count": 1,
      "outputs": []
    },
    {
      "cell_type": "markdown",
      "metadata": {
        "id": "iag4ATE5D793"
      },
      "source": [
        "# 2. Imports"
      ]
    },
    {
      "cell_type": "code",
      "metadata": {
        "id": "1RCk2J4BDBI6"
      },
      "source": [
        "import os\n",
        "import numpy as np\n",
        "import torch\n",
        "import torch.utils.data\n",
        "from PIL import Image\n",
        "import matplotlib.pyplot as plt\n",
        "import glob\n",
        "import cv2\n",
        "from torchvision.transforms import functional as F\n",
        "from torch.utils.data import Dataset\n",
        "import albumentations as TAA\n",
        "import torchvision\n",
        "from torchvision.models.detection.faster_rcnn import FastRCNNPredictor\n",
        "from torchvision.models.detection.mask_rcnn import MaskRCNNPredictor\n",
        "from engine import train_one_epoch, evaluate\n",
        "import utils\n",
        "device = torch.device('cuda') if torch.cuda.is_available() else torch.device('cpu')"
      ],
      "execution_count": null,
      "outputs": []
    },
    {
      "cell_type": "markdown",
      "metadata": {
        "id": "jjN09UkkD_Uc"
      },
      "source": [
        "## 3. Load dataset images from your Google Drive\n",
        "Or you can download it here: https://zenodo.org/record/4041488#.YEzSwy2708Z"
      ]
    },
    {
      "cell_type": "code",
      "metadata": {
        "id": "D_V93lsYW-1P"
      },
      "source": [
        "# from google.colab import drive\n",
        "# drive.mount('/content/drive')\n",
        "# !cp drive/MyDrive/dataset.zip ./\n",
        "# !unzip dataset.zip"
      ],
      "execution_count": 2,
      "outputs": []
    },
    {
      "cell_type": "markdown",
      "metadata": {
        "id": "2qmZriL8DTwF"
      },
      "source": [
        "# 4. Dataset and Augmentations"
      ]
    },
    {
      "cell_type": "code",
      "metadata": {
        "id": "TOesgz3yYDkx"
      },
      "source": [
        "def get_transform(train):\n",
        "    if train:\n",
        "        return TAA.Compose([\n",
        "            TAA.Blur(blur_limit=10),\n",
        "            TAA.ShiftScaleRotate(shift_limit=0.1, rotate_limit=30, interpolation=1, border_mode=0),\n",
        "            TAA.HorizontalFlip(),\n",
        "            TAA.VerticalFlip()\n",
        "        ])\n",
        "    else:\n",
        "        return None\n",
        "\n",
        "\n",
        "class FoodDataset(Dataset):\n",
        "    def __init__(self, root, transforms=None):\n",
        "        self.root = root\n",
        "        self.transforms = transforms\n",
        "        self.imgs = sorted(glob.glob(f'{root}/img/*.png'))\n",
        "        self.masks = sorted(glob.glob(f'{root}/mask/*.png'))\n",
        "\n",
        "    def __getitem__(self, idx):\n",
        "        img_path = self.imgs[idx]\n",
        "        mask_path = self.masks[idx]\n",
        "        img = cv2.cvtColor(cv2.imread(img_path), cv2.COLOR_BGR2RGB)\n",
        "        mask = cv2.cvtColor(cv2.imread(mask_path), cv2.COLOR_BGR2GRAY)\n",
        "        if self.transforms:\n",
        "            aug = self.transforms(image=img, mask=mask)\n",
        "            img = aug['image']\n",
        "            mask = aug['mask']\n",
        "\n",
        "        # countour detection\n",
        "        obj_ids = np.unique(mask)\n",
        "        obj_ids = obj_ids[1:]\n",
        "        num_objs = len(obj_ids)\n",
        "        boxes = []\n",
        "        masks = []\n",
        "\n",
        "        for u in obj_ids:\n",
        "            mask_unique = np.copy(mask)\n",
        "            mask_unique[mask_unique != u] = 0\n",
        "            contours, b = cv2.findContours(mask_unique, cv2.RETR_EXTERNAL, cv2.CHAIN_APPROX_NONE)\n",
        "            if len(contours) > 1:\n",
        "                while True:\n",
        "                    mask_unique = np.copy(mask)\n",
        "                    mask_unique[mask_unique != u] = 0\n",
        "                    id_zerar = np.random.randint(len(contours))\n",
        "                    xmin = np.min(contours[id_zerar][:, 0, 0])\n",
        "                    xmax = np.max(contours[id_zerar][:, 0, 0])\n",
        "                    ymin = np.min(contours[id_zerar][:, 0, 1])\n",
        "                    ymax = np.max(contours[id_zerar][:, 0, 1])\n",
        "\n",
        "                    # exclui os outros objetos\n",
        "                    mm = np.zeros(mask_unique.shape, np.bool)\n",
        "                    mm[ymin:ymax, xmin:xmax] = 1\n",
        "                    mask_unique *= mm\n",
        "                    if len(np.unique(mask_unique)) > 1:\n",
        "                        break\n",
        "\n",
        "            try:\n",
        "              mask_unique = np.clip(mask_unique, 0, 1)\n",
        "              masks.append(mask_unique)\n",
        "              pos = np.where(mask_unique)\n",
        "              xmin = np.min(pos[1])\n",
        "              xmax = np.max(pos[1])\n",
        "              ymin = np.min(pos[0])\n",
        "              ymax = np.max(pos[0])\n",
        "              boxes.append([xmin, ymin, xmax, ymax])\n",
        "            except:\n",
        "              print(mask_path)\n",
        "              plt.imshow(mask_unique)\n",
        "              plt.show()\n",
        "\n",
        "              plt.imshow(mask) \n",
        "              plt.show()\n",
        "              print(img_path)\n",
        "              print(mask_unique)\n",
        "              print(obj_ids)\n",
        "              print(mask)\n",
        "              print(len(contours))\n",
        "\n",
        "        boxes = torch.as_tensor(boxes, dtype=torch.float32)\n",
        "        labels = torch.as_tensor(obj_ids, dtype=torch.int64)\n",
        "        masks = torch.as_tensor(masks, dtype=torch.uint8)\n",
        "\n",
        "        image_id = torch.tensor([idx])\n",
        "        area = (boxes[:, 3] - boxes[:, 1]) * (boxes[:, 2] - boxes[:, 0])\n",
        "        iscrowd = torch.zeros((num_objs,), dtype=torch.int64)\n",
        "\n",
        "        target = {}\n",
        "        target[\"boxes\"] = boxes\n",
        "        target[\"labels\"] = labels\n",
        "        target[\"masks\"] = masks\n",
        "        target[\"image_id\"] = image_id\n",
        "        target[\"area\"] = area\n",
        "        target[\"iscrowd\"] = iscrowd\n",
        "        return F.to_tensor(img), target\n",
        "\n",
        "    def __len__(self):\n",
        "        return len(self.imgs)"
      ],
      "execution_count": 11,
      "outputs": []
    },
    {
      "cell_type": "markdown",
      "metadata": {
        "id": "XIPs0VqbEtaI"
      },
      "source": [
        "# 5. Dataloader"
      ]
    },
    {
      "cell_type": "code",
      "metadata": {
        "id": "VdcgE7zRDi-9"
      },
      "source": [
        "dataset = FoodDataset('dataset', get_transform(train=True))\n",
        "dataset_test = FoodDataset('dataset', get_transform(train=False))\n",
        "\n",
        "indices = torch.randperm(len(dataset)).tolist()\n",
        "dataset = torch.utils.data.Subset(dataset, indices[:-50])\n",
        "dataset_test = torch.utils.data.Subset(dataset_test, indices[-50:])\n",
        "\n",
        "data_loader = torch.utils.data.DataLoader(\n",
        "    dataset, batch_size=6, shuffle=True, num_workers=2,\n",
        "    collate_fn=utils.collate_fn)\n",
        "\n",
        "data_loader_test = torch.utils.data.DataLoader(\n",
        "    dataset_test, batch_size=1, shuffle=False, num_workers=2,\n",
        "    collate_fn=utils.collate_fn)"
      ],
      "execution_count": null,
      "outputs": []
    },
    {
      "cell_type": "markdown",
      "metadata": {
        "id": "YkuRsAW5E5l5"
      },
      "source": [
        "# 6. Load pretrained model"
      ]
    },
    {
      "cell_type": "code",
      "metadata": {
        "id": "YjNHjVMOyYlH"
      },
      "source": [
        "def get_instance_segmentation_model(num_classes):\n",
        "    model = torchvision.models.detection.maskrcnn_resnet50_fpn(pretrained=True)\n",
        "    in_features = model.roi_heads.box_predictor.cls_score.in_features\n",
        "    model.roi_heads.box_predictor = FastRCNNPredictor(in_features, num_classes)\n",
        "    in_features_mask = model.roi_heads.mask_predictor.conv5_mask.in_channels\n",
        "    hidden_layer = 256\n",
        "    model.roi_heads.mask_predictor = MaskRCNNPredictor(in_features_mask, hidden_layer, num_classes)\n",
        "    return model\n",
        "  \n",
        "num_classes = 10\n",
        "model = get_instance_segmentation_model(num_classes)\n",
        "model.to(device)\n",
        "\n",
        "params = [p for p in model.parameters() if p.requires_grad]\n",
        "optimizer = torch.optim.SGD(params, lr=0.005, momentum=0.9, weight_decay=0.0005)\n",
        "lr_scheduler = torch.optim.lr_scheduler.StepLR(optimizer, step_size=3, gamma=0.9)"
      ],
      "execution_count": 5,
      "outputs": []
    },
    {
      "cell_type": "markdown",
      "metadata": {
        "id": "NR_G8YrTFDu3"
      },
      "source": [
        "## 7. Training"
      ]
    },
    {
      "cell_type": "code",
      "metadata": {
        "id": "at-h4OWK0aoc"
      },
      "source": [
        "num_epochs = 10\n",
        "from engine import train_one_epoch, evaluate\n",
        "for epoch in range(num_epochs):\n",
        "    # train for one epoch, printing every 10 iterations\n",
        "    train_one_epoch(model, optimizer, data_loader, device, epoch, print_freq=10)\n",
        "    \n",
        "    # save model at end of train step\n",
        "    torch.save(model, 'model_split_1.pt')\n",
        "\n",
        "    # update the learning rate\n",
        "    lr_scheduler.step()\n",
        "    \n",
        "    # evaluate on the test dataset\n",
        "    evaluate(model, data_loader_test, device=device)"
      ],
      "execution_count": null,
      "outputs": []
    },
    {
      "cell_type": "markdown",
      "metadata": {
        "id": "dRChC91zegXC"
      },
      "source": [
        "Now you can move the \"model_split_1.pt\" to root folder and use the webapp perform predictions"
      ]
    }
  ]
}